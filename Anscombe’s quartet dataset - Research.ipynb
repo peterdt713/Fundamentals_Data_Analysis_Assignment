{
 "cells": [
  {
   "cell_type": "markdown",
   "metadata": {},
   "source": [
    "# Anscombe’s quartet dataset - Package Research\n",
    "## Assignment Details\n",
    "\n",
    "The purpose of this Jupyter notebook is to conduct research into the Anscombe’s quartet dataset.\n",
    "\n",
    "Per the assignment, there are four distinct tasks to be completed:\n",
    "\n",
    "1. Explain the background to the dataset – who created it, when it was created, and any speculation you can find regarding how it might have been created.\n",
    "2. Plot the interesting aspects of the dataset.\n",
    "3. Calculate the descriptive statistics of the variables in the dataset.\n",
    "4. Explain why the dataset is interesting, referring to the plots and statistics above."
   ]
  },
  {
   "cell_type": "code",
   "execution_count": null,
   "metadata": {
    "collapsed": true
   },
   "outputs": [],
   "source": []
  }
 ],
 "metadata": {
  "kernelspec": {
   "display_name": "Python 3",
   "language": "python",
   "name": "python3"
  },
  "language_info": {
   "codemirror_mode": {
    "name": "ipython",
    "version": 3
   },
   "file_extension": ".py",
   "mimetype": "text/x-python",
   "name": "python",
   "nbconvert_exporter": "python",
   "pygments_lexer": "ipython3",
   "version": "3.6.3"
  }
 },
 "nbformat": 4,
 "nbformat_minor": 2
}
