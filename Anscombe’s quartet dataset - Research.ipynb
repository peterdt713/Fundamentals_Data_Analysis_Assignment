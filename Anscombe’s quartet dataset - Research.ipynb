{
 "cells": [
  {
   "cell_type": "markdown",
   "metadata": {},
   "source": [
    "# Anscombe’s quartet dataset - Package Research\n",
    "## Assignment Details\n",
    "\n",
    "The purpose of this Jupyter notebook is to conduct research into the Anscombe’s quartet dataset.\n",
    "\n",
    "Per the assignment, there are four distinct tasks to be completed:\n",
    "\n",
    "1. Explain the background to the dataset – who created it, when it was created, and any speculation you can find regarding how it might have been created.\n",
    "2. Plot the interesting aspects of the dataset.\n",
    "3. Calculate the descriptive statistics of the variables in the dataset.\n",
    "4. Explain why the dataset is interesting, referring to the plots and statistics above."
   ]
  },
  {
   "cell_type": "markdown",
   "metadata": {
    "collapsed": true
   },
   "source": [
    "## Initial Research\n",
    "\n",
    "Anscombe’s quartet dataset is comprised of four datasets that, when analysed with basic descriptive statistics, appear to be nearly identical. [1] Each of the four datasets consists of eleven (x, y) points which yield almost the exact same values for linear regression coefficients, x and y means, x and y variance, and pearson correlation coefficients. [2]\n",
    "\n",
    "When graphed it can be clearly seen that although the summary statistics may be comparable, the actual datasets are far from similar in structure. [3] The datasets were first published in 1973 by the statistician Francis Anscombe in his paper “Graphs in Statistical Analysis” published in The American Statistician Vol. 27. He created the datasets to demonstrate that statistical calculations may “rest on assumptions about the behaviour of the data.” He also stated the assumptions may be incorrect and that visualizing the data can be an essential component in the analysis of data. [4]\n",
    "\n",
    "Within his paper, Francis Anscombe also discuss the effects of outliers on statistical properties. He describes a study on education in which he studied expenditures for public schools in the “fifty of the Union, together with the District of Columbia”. From his analysis, Alaska can be determined as an outlier due to its heavy contribution in the regression analysis. He concluded that by reporting the regression relation with all datapoints in combination with reporting the regression relation with the removal of outliers, an increased understanding of the outlier’s contribution can be understood. [4]\n",
    "\n",
    "As described in the linked blog post, it's possible to produce bivariate data with a given mean, median, and correlation in any shape desired. The paper within the post describes the methodology for disturbing the points within a scatterplot and moving them towards a given shape. All while keeping the statistical summaries close to the target values [5]\n",
    "\n"
   ]
  },
  {
   "cell_type": "markdown",
   "metadata": {},
   "source": [
    "## Importing the Dataset"
   ]
  },
  {
   "cell_type": "code",
   "execution_count": 8,
   "metadata": {},
   "outputs": [
    {
     "name": "stdout",
     "output_type": "stream",
     "text": [
      "id dataset     x      y\n",
      "0        I  10.0   8.04\n",
      "1        I   8.0   6.95\n",
      "2        I  13.0   7.58\n",
      "3        I   9.0   8.81\n",
      "4        I  11.0   8.33\n",
      "5        I  14.0   9.96\n",
      "6        I   6.0   7.24\n",
      "7        I   4.0   4.26\n",
      "8        I  12.0  10.84\n",
      "9        I   7.0   4.82\n",
      "10       I   5.0   5.68\n",
      "11      II  10.0   9.14\n",
      "12      II   8.0   8.14\n",
      "13      II  13.0   8.74\n",
      "14      II   9.0   8.77\n",
      "15      II  11.0   9.26\n",
      "16      II  14.0   8.10\n",
      "17      II   6.0   6.13\n",
      "18      II   4.0   3.10\n",
      "19      II  12.0   9.13\n",
      "20      II   7.0   7.26\n",
      "21      II   5.0   4.74\n",
      "22     III  10.0   7.46\n",
      "23     III   8.0   6.77\n",
      "24     III  13.0  12.74\n",
      "25     III   9.0   7.11\n",
      "26     III  11.0   7.81\n",
      "27     III  14.0   8.84\n",
      "28     III   6.0   6.08\n",
      "29     III   4.0   5.39\n",
      "30     III  12.0   8.15\n",
      "31     III   7.0   6.42\n",
      "32     III   5.0   5.73\n",
      "33      IV   8.0   6.58\n",
      "34      IV   8.0   5.76\n",
      "35      IV   8.0   7.71\n",
      "36      IV   8.0   8.84\n",
      "37      IV   8.0   8.47\n",
      "38      IV   8.0   7.04\n",
      "39      IV   8.0   5.25\n",
      "40      IV  19.0  12.50\n",
      "41      IV   8.0   5.56\n",
      "42      IV   8.0   7.91\n",
      "43      IV   8.0   6.89\n"
     ]
    }
   ],
   "source": [
    "import pandas as pd\n",
    "df=pd.read_csv('raw_data.csv',header=[0,1],index_col=[0])\n",
    "\n",
    "# print dataset to ensure imported correctly\n",
    "print(df)"
   ]
  },
  {
   "cell_type": "code",
   "execution_count": null,
   "metadata": {},
   "outputs": [],
   "source": []
  },
  {
   "cell_type": "markdown",
   "metadata": {
    "collapsed": true
   },
   "source": [
    "## References\n",
    "\n",
    "- **[1]** https://www.r-bloggers.com/using-and-abusing-data-visualization-anscombes-quartet-and-cheating-bonferroni/\n",
    "- **[2]** https://www.vernier.com/innovate/anscombes-quartet/\n",
    "- **[3]** https://plotlyblog.tumblr.com/post/68951620673/why-graph-anscombes-quartet\n",
    "- **[4.1]** Graphs in Statistical Analysis, F. J. Anscombe, The American Statistician, Vol. 27, No. 1. (Feb., 1973), pp. 17-21.\n",
    "- **[4.2]** http://www.sjsu.edu/faculty/gerstman/StatPrimer/anscombe1973.pdf\n",
    "- **[5]** https://blog.revolutionanalytics.com/2017/05/the-datasaurus-dozen.html\n"
   ]
  },
  {
   "cell_type": "code",
   "execution_count": null,
   "metadata": {
    "collapsed": true
   },
   "outputs": [],
   "source": []
  }
 ],
 "metadata": {
  "kernelspec": {
   "display_name": "Python 3",
   "language": "python",
   "name": "python3"
  },
  "language_info": {
   "codemirror_mode": {
    "name": "ipython",
    "version": 3
   },
   "file_extension": ".py",
   "mimetype": "text/x-python",
   "name": "python",
   "nbconvert_exporter": "python",
   "pygments_lexer": "ipython3",
   "version": "3.6.3"
  }
 },
 "nbformat": 4,
 "nbformat_minor": 2
}
